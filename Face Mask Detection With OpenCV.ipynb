{
 "cells": [
  {
   "cell_type": "code",
   "execution_count": 41,
   "metadata": {},
   "outputs": [],
   "source": [
    "import os\n",
    "import math\n",
    "import random\n",
    "import shutil\n",
    "\n",
    "import numpy as np\n",
    "import pandas as pd\n",
    "import matplotlib.pyplot as plt\n",
    "import seaborn as sns\n",
    "\n",
    "import cv2\n",
    "\n",
    "from tensorflow.keras.models import Model\n",
    "from tensorflow.keras.models import load_model"
   ]
  },
  {
   "cell_type": "code",
   "execution_count": 37,
   "metadata": {},
   "outputs": [],
   "source": [
    "BASE_DIR = \"datasets/\"\n",
    "names = [\"Mask\", \"No Mask\"]\n",
    "\n",
    "tf.random.set_seed(1)"
   ]
  },
  {
   "cell_type": "markdown",
   "metadata": {},
   "source": [
    "# Load Model"
   ]
  },
  {
   "cell_type": "code",
   "execution_count": 38,
   "metadata": {},
   "outputs": [
    {
     "name": "stdout",
     "output_type": "stream",
     "text": [
      "Model Loaded\n"
     ]
    }
   ],
   "source": [
    "model_faceDetection = load_model(\"Model/model_FeceDetection_ResNet50.h5\")\n",
    "print('Model Loaded')"
   ]
  },
  {
   "cell_type": "code",
   "execution_count": 39,
   "metadata": {},
   "outputs": [
    {
     "name": "stdout",
     "output_type": "stream",
     "text": [
      "Model: \"sequential\"\n",
      "_________________________________________________________________\n",
      "Layer (type)                 Output Shape              Param #   \n",
      "=================================================================\n",
      "resnet50 (Functional)        (None, 2048)              23587712  \n",
      "_________________________________________________________________\n",
      "dense (Dense)                (None, 1)                 2049      \n",
      "=================================================================\n",
      "Total params: 23,589,761\n",
      "Trainable params: 23,536,641\n",
      "Non-trainable params: 53,120\n",
      "_________________________________________________________________\n"
     ]
    }
   ],
   "source": [
    "model_faceDetection.summary()"
   ]
  },
  {
   "cell_type": "markdown",
   "metadata": {},
   "source": [
    "# Face Detection With OpenCV"
   ]
  },
  {
   "cell_type": "code",
   "execution_count": 53,
   "metadata": {},
   "outputs": [],
   "source": [
    "def detect_face_mask(img):\n",
    "    x = image.img_to_array(img)\n",
    "    x = np.expand_dims(x, axis=0)\n",
    "\n",
    "    images = np.vstack([x])\n",
    "    classes = model_faceDetection.predict_classes(images, batch_size=10)\n",
    "        \n",
    "    return classes[0][0]"
   ]
  },
  {
   "cell_type": "code",
   "execution_count": 63,
   "metadata": {},
   "outputs": [],
   "source": [
    "def detect_face(img):\n",
    "    haar = cv2.CascadeClassifier(\"haarcascade_frontalface_default.xml\")\n",
    "    \n",
    "    face_detection = haar.detectMultiScale(img)\n",
    "    \n",
    "    return face_detection"
   ]
  },
  {
   "cell_type": "code",
   "execution_count": 64,
   "metadata": {},
   "outputs": [],
   "source": [
    "def draw_ped(img,label,x0,y0,xt,yt,color=(0,0,255),text_color=(255,255,255)):\n",
    "    (w,h), baseline = cv2.getTextSize(label,cv2.FONT_HERSHEY_COMPLEX,0.5,1)\n",
    "    \n",
    "    cv2.rectangle(img,\n",
    "                 (x0, y0 + baseline),\n",
    "                 (max(xt, x0+ w), yt),\n",
    "                 color,\n",
    "                 2)\n",
    "    cv2.rectangle(img,\n",
    "                 (x0, y0 - h),\n",
    "                 (x0 + w, y0 + baseline),\n",
    "                 color,\n",
    "                 -1)\n",
    "    cv2.putText(img,\n",
    "               label,\n",
    "               (x0,y0),\n",
    "               cv2.FONT_HERSHEY_COMPLEX,\n",
    "               0.5,\n",
    "               text_color,\n",
    "               1,\n",
    "               cv2.LINE_AA)\n",
    "    return img"
   ]
  },
  {
   "cell_type": "code",
   "execution_count": 65,
   "metadata": {},
   "outputs": [],
   "source": [
    "cap = cv2.VideoCapture(1)\n",
    "\n",
    "while True:\n",
    "    ret, frame = cap.read()\n",
    "    \n",
    "    # call the detection method\n",
    "    img = cv2.resize(frame, (224,224))\n",
    "    \n",
    "    y_pred = detect_face_mask(img)\n",
    "    \n",
    "    face_detection = detect_face(cv2.cvtColor(frame, cv2.COLOR_BGR2GRAY))\n",
    "    \n",
    "    for (x,y,w,h) in face_detection:\n",
    "        \n",
    "        if y_pred == 0:\n",
    "            draw_ped(frame,names[0],x,y,x+w,y+h, color=(0,255,0))\n",
    "        else:\n",
    "            draw_ped(frame,names[1],x,y,x+w,y+h, color=(0,0,255))\n",
    "    \n",
    "    \n",
    "    cv2.imshow(\"Frame\", frame)\n",
    "\n",
    "    if cv2.waitKey(1) == ord('q'):\n",
    "        break\n",
    "        \n",
    "\n",
    "cv2.destroyAllWindows()        "
   ]
  },
  {
   "cell_type": "code",
   "execution_count": null,
   "metadata": {},
   "outputs": [],
   "source": []
  }
 ],
 "metadata": {
  "kernelspec": {
   "display_name": "Python [conda env:belajar_cv]",
   "language": "python",
   "name": "conda-env-belajar_cv-py"
  },
  "language_info": {
   "codemirror_mode": {
    "name": "ipython",
    "version": 3
   },
   "file_extension": ".py",
   "mimetype": "text/x-python",
   "name": "python",
   "nbconvert_exporter": "python",
   "pygments_lexer": "ipython3",
   "version": "3.8.0"
  },
  "varInspector": {
   "cols": {
    "lenName": 16,
    "lenType": 16,
    "lenVar": 40
   },
   "kernels_config": {
    "python": {
     "delete_cmd_postfix": "",
     "delete_cmd_prefix": "del ",
     "library": "var_list.py",
     "varRefreshCmd": "print(var_dic_list())"
    },
    "r": {
     "delete_cmd_postfix": ") ",
     "delete_cmd_prefix": "rm(",
     "library": "var_list.r",
     "varRefreshCmd": "cat(var_dic_list()) "
    }
   },
   "types_to_exclude": [
    "module",
    "function",
    "builtin_function_or_method",
    "instance",
    "_Feature"
   ],
   "window_display": false
  }
 },
 "nbformat": 4,
 "nbformat_minor": 4
}
